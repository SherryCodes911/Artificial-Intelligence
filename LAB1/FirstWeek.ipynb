{
 "cells": [
  {
   "metadata": {},
   "cell_type": "markdown",
   "source": "print(\"Hello World\")",
   "id": "3a44f1a07fbd9d37"
  },
  {
   "cell_type": "code",
   "id": "01b6ec14-965b-4a8f-bc70-ea3aad1ab98c",
   "metadata": {
    "jupyter": {
     "is_executing": true
    }
   },
   "source": "print(int(\"2\") + 2)",
   "outputs": [],
   "execution_count": null
  },
  {
   "cell_type": "code",
   "execution_count": 7,
   "id": "5fad8504-734c-402a-9534-448c5a2ea8b0",
   "metadata": {},
   "outputs": [
    {
     "name": "stdout",
     "output_type": "stream",
     "text": [
      "Hello World\n",
      "Hello World\n"
     ]
    }
   ],
   "source": [
    "print(\"Hello\", \"World\")\n",
    "print(\"Hello\" + \" World\")"
   ]
  },
  {
   "cell_type": "code",
   "execution_count": 11,
   "id": "3c73a210-c8b1-45f5-840a-0f5daccaa8bb",
   "metadata": {},
   "outputs": [
    {
     "name": "stdin",
     "output_type": "stream",
     "text": [
      "enter age:  2\n"
     ]
    },
    {
     "name": "stdout",
     "output_type": "stream",
     "text": [
      "17520\n"
     ]
    }
   ],
   "source": [
    "#Task_1\n",
    "age=int(input(\"enter age: \"))\n",
    "hour=(age*365)*24\n",
    "print(hour)"
   ]
  },
  {
   "cell_type": "code",
   "execution_count": 20,
   "id": "ffd8bd89-d18a-48b1-948b-f398413e46db",
   "metadata": {},
   "outputs": [
    {
     "name": "stdin",
     "output_type": "stream",
     "text": [
      "Enter Radius:  2\n"
     ]
    },
    {
     "name": "stdout",
     "output_type": "stream",
     "text": [
      "12.56\n"
     ]
    }
   ],
   "source": [
    "#Task_2\n",
    "rad= int(input(\"Enter Radius: \"))\n",
    "area= 3.14*(rad*rad)\n",
    "print(area)"
   ]
  },
  {
   "cell_type": "code",
   "execution_count": null,
   "id": "513295bc-54fc-416a-a8fa-7cc5a5957a4f",
   "metadata": {},
   "outputs": [],
   "source": [
    "#Task_3\n",
    "temp= int(input(\"enter temp\"))\n",
    "f= temp*(9/5)+32\n",
    "print(f)"
   ]
  },
  {
   "cell_type": "code",
   "execution_count": null,
   "id": "53046f8f-062e-44ae-a757-b481ceb53690",
   "metadata": {},
   "outputs": [],
   "source": []
  }
 ],
 "metadata": {
  "kernelspec": {
   "display_name": "Python 3 (ipykernel)",
   "language": "python",
   "name": "python3"
  },
  "language_info": {
   "codemirror_mode": {
    "name": "ipython",
    "version": 3
   },
   "file_extension": ".py",
   "mimetype": "text/x-python",
   "name": "python",
   "nbconvert_exporter": "python",
   "pygments_lexer": "ipython3",
   "version": "3.12.4"
  }
 },
 "nbformat": 4,
 "nbformat_minor": 5
}
