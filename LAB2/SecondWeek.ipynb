{
 "cells": [
  {
   "cell_type": "code",
   "execution_count": null,
   "id": "a7ec05f8-4b54-478c-8860-6f4ce9377a05",
   "metadata": {},
   "outputs": [],
   "source": [
    "#Shahriyar Shahid"
   ]
  },
  {
   "cell_type": "code",
   "execution_count": 1,
   "id": "72d9733e-20de-4451-a1cc-0793b218f46a",
   "metadata": {},
   "outputs": [
    {
     "name": "stdout",
     "output_type": "stream",
     "text": [
      "['Fight Club', 'Godfather', 'Good Will Hunting', 'Insomnia', 'Seven']\n"
     ]
    }
   ],
   "source": [
    "fav=[\"Fight Club\",\"Godfather\",\"Good Will Hunting\",\"Insomnia\",\"Seven\"]\n",
    "print(fav)"
   ]
  },
  {
   "cell_type": "code",
   "execution_count": 2,
   "id": "4c38e008-4cbf-4e03-847b-1bfe737adfaf",
   "metadata": {},
   "outputs": [
    {
     "name": "stdout",
     "output_type": "stream",
     "text": [
      "[1, 2, 4, 5, 6, 7, 8, 9, 0, 3]\n"
     ]
    }
   ],
   "source": [
    "num=[1,2,4,5,6,7,8,9,0,3]\n",
    "print(num)"
   ]
  },
  {
   "cell_type": "code",
   "execution_count": 7,
   "id": "450952f3-1996-4e18-a7fe-8c52e939d322",
   "metadata": {},
   "outputs": [
    {
     "name": "stdout",
     "output_type": "stream",
     "text": [
      "[1, 3, 4, 5, 7]\n"
     ]
    }
   ],
   "source": [
    "nums=[1,3,5,7]\n",
    "nums.insert(2,4)\n",
    "print(nums)"
   ]
  },
  {
   "cell_type": "code",
   "execution_count": 9,
   "id": "49998725-2554-465b-91d8-7abe05a1e5a6",
   "metadata": {},
   "outputs": [
    {
     "name": "stdout",
     "output_type": "stream",
     "text": [
      "['Java', 'C++', 'JavaScript', 'Python']\n"
     ]
    }
   ],
   "source": [
    "lang=[\"Java\", \"C++\",\"JavaScript\"]\n",
    "lang.append(\"Python\")\n",
    "print(lang)"
   ]
  },
  {
   "cell_type": "code",
   "execution_count": 12,
   "id": "6292c937-d214-4a27-8c0c-fe41fcae251f",
   "metadata": {},
   "outputs": [
    {
     "name": "stdout",
     "output_type": "stream",
     "text": [
      "[10, 20, 40, 50]\n"
     ]
    }
   ],
   "source": [
    "List=[10,20,30,40,50]\n",
    "List.remove(30)\n",
    "print(List)"
   ]
  },
  {
   "cell_type": "code",
   "execution_count": 16,
   "id": "4208d8d0-fb3a-4254-8727-d4c87d356939",
   "metadata": {},
   "outputs": [
    {
     "name": "stdout",
     "output_type": "stream",
     "text": [
      "['Apple', 'Cherry']\n"
     ]
    }
   ],
   "source": [
    "fruits=[\"Apple\",\"Banana\",\"Cherry\"]\n",
    "del fruits[1]\n",
    "print(fruits)"
   ]
  },
  {
   "cell_type": "code",
   "execution_count": 18,
   "id": "4730fc70-4b81-44bf-8ca2-170adff45bfa",
   "metadata": {},
   "outputs": [
    {
     "name": "stdout",
     "output_type": "stream",
     "text": [
      "[1, 2, 5, 9]\n"
     ]
    }
   ],
   "source": [
    "nums=[5,2,9,1]\n",
    "nums.sort()\n",
    "print(nums)"
   ]
  },
  {
   "cell_type": "code",
   "execution_count": 19,
   "id": "c16ce914-77b1-4fbc-94df-7338f6e710d1",
   "metadata": {},
   "outputs": [
    {
     "name": "stdout",
     "output_type": "stream",
     "text": [
      "['cherry', 'banana', 'apple']\n"
     ]
    }
   ],
   "source": [
    "fruits=[\"banana\",\"apple\",\"cherry\"]\n",
    "fruits.sort(reverse=True)\n",
    "print(fruits)"
   ]
  },
  {
   "cell_type": "code",
   "execution_count": 28,
   "id": "ebf58a32-46d6-4b8c-b040-866201b0dbe7",
   "metadata": {},
   "outputs": [
    {
     "name": "stdout",
     "output_type": "stream",
     "text": [
      "['c', 'd', 'e']\n"
     ]
    }
   ],
   "source": [
    "letter=['a', 'b', 'c', 'd', 'e', 'f']\n",
    "print(letter[2:5])"
   ]
  },
  {
   "cell_type": "code",
   "execution_count": 33,
   "id": "f8045167-53d3-4ba2-8fc0-10d0f23ffd50",
   "metadata": {},
   "outputs": [
    {
     "name": "stdout",
     "output_type": "stream",
     "text": [
      "[20, 30, 40, 50, 60]\n"
     ]
    }
   ],
   "source": [
    "Slice=[10, 20, 30, 40, 50, 60, 70]\n",
    "print(Slice[1:6:1])"
   ]
  }
 ],
 "metadata": {
  "kernelspec": {
   "display_name": "Python 3 (ipykernel)",
   "language": "python",
   "name": "python3"
  },
  "language_info": {
   "codemirror_mode": {
    "name": "ipython",
    "version": 3
   },
   "file_extension": ".py",
   "mimetype": "text/x-python",
   "name": "python",
   "nbconvert_exporter": "python",
   "pygments_lexer": "ipython3",
   "version": "3.12.4"
  }
 },
 "nbformat": 4,
 "nbformat_minor": 5
}
