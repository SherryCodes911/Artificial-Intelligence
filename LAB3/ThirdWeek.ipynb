{
 "cells": [
  {
   "cell_type": "code",
   "execution_count": 2,
   "id": "63441553-45e3-4ce6-9d82-a6253620e000",
   "metadata": {},
   "outputs": [],
   "source": [
    "#Shahriyar Shahid"
   ]
  },
  {
   "cell_type": "code",
   "execution_count": 11,
   "id": "2b899e83-8a21-4ced-90ad-e1e76f9c82a6",
   "metadata": {},
   "outputs": [
    {
     "name": "stdout",
     "output_type": "stream",
     "text": [
      "(5, 10, ['Monday', 'Wednesday'], (2, 4))\n",
      "<class 'tuple'>\n",
      "5\n",
      "(5, 10, ['Monday', 'Wednesday'], (2, 4))\n",
      "Wednesday\n",
      "5\n",
      "(2, 4)\n"
     ]
    }
   ],
   "source": [
    "#Creating a Tuple\n",
    "myTuple=(5,10,[\"Monday\",\"Wednesday\"],(2,4))\n",
    "print(myTuple)\n",
    "print(type(myTuple))\n",
    "print(myTuple[0])\n",
    "print(myTuple[0:])\n",
    "print(myTuple[2][1])\n",
    "print(myTuple[0])\n",
    "print(myTuple[-1])"
   ]
  },
  {
   "cell_type": "code",
   "execution_count": 12,
   "id": "177b7bfb-a778-457e-9c8d-d7cd5f6633bc",
   "metadata": {},
   "outputs": [
    {
     "ename": "TypeError",
     "evalue": "'tuple' object does not support item assignment",
     "output_type": "error",
     "traceback": [
      "\u001b[1;31m---------------------------------------------------------------------------\u001b[0m",
      "\u001b[1;31mTypeError\u001b[0m                                 Traceback (most recent call last)",
      "Cell \u001b[1;32mIn[12], line 2\u001b[0m\n\u001b[0;32m      1\u001b[0m \u001b[38;5;66;03m# Updating Tuple\u001b[39;00m\n\u001b[1;32m----> 2\u001b[0m myTuple[\u001b[38;5;241m0\u001b[39m]\u001b[38;5;241m=\u001b[39m\u001b[38;5;241m5\u001b[39m\n",
      "\u001b[1;31mTypeError\u001b[0m: 'tuple' object does not support item assignment"
     ]
    }
   ],
   "source": [
    "# Updating Tuple\n",
    "myTuple[0]=5"
   ]
  },
  {
   "cell_type": "code",
   "execution_count": 15,
   "id": "0c3d6865-4049-470f-ad68-cb618413397f",
   "metadata": {},
   "outputs": [
    {
     "name": "stdout",
     "output_type": "stream",
     "text": [
      "(5, ['Monday', 'Wednesday'], (2, 4))\n"
     ]
    }
   ],
   "source": [
    "#Alternate way of removal of element -> Slicing\n",
    "myTuple=myTuple[0:1]+myTuple[2:]\n",
    "print(newTuple)"
   ]
  },
  {
   "cell_type": "code",
   "execution_count": 16,
   "id": "4242d84a-1d16-4959-96b9-77900de9e0d2",
   "metadata": {},
   "outputs": [
    {
     "name": "stdout",
     "output_type": "stream",
     "text": [
      "(['Monday', 'Wednesday'], (2, 4))\n"
     ]
    }
   ],
   "source": [
    "myList=list(myTuple)\n",
    "del myList[0]\n",
    "newTuple=tuple(myList)\n",
    "print(newTuple)"
   ]
  },
  {
   "cell_type": "code",
   "execution_count": 19,
   "id": "5f9a1c28-9281-4219-8f66-222d42ef5e11",
   "metadata": {},
   "outputs": [
    {
     "name": "stdout",
     "output_type": "stream",
     "text": [
      "(5, ['Monday', 'Wednesday'], (2, 4), 3, 4)\n"
     ]
    }
   ],
   "source": [
    "#Add elements\n",
    "new_tuple=myTuple[:]+tuple((3,4))\n",
    "print(new_tuple)"
   ]
  },
  {
   "cell_type": "code",
   "execution_count": 20,
   "id": "66255bf6-e4e3-4131-a589-3727e46908a7",
   "metadata": {},
   "outputs": [
    {
     "name": "stdout",
     "output_type": "stream",
     "text": [
      "True\n"
     ]
    }
   ],
   "source": [
    "print(5 in new_tuple)"
   ]
  },
  {
   "cell_type": "code",
   "execution_count": 21,
   "id": "c641a54b-e895-4d60-869c-94d3de8d5106",
   "metadata": {},
   "outputs": [],
   "source": [
    "# Dictionaries"
   ]
  },
  {
   "cell_type": "code",
   "execution_count": 8,
   "id": "1d24724e-2f45-4329-8058-a327f125f3a1",
   "metadata": {},
   "outputs": [
    {
     "name": "stdout",
     "output_type": "stream",
     "text": [
      "<class 'dict'>\n"
     ]
    }
   ],
   "source": [
    "myDic={}\n",
    "print(type(myDic))"
   ]
  },
  {
   "cell_type": "code",
   "execution_count": 26,
   "id": "337b14ce-e0b3-4731-a598-61dc5aa4a124",
   "metadata": {},
   "outputs": [
    {
     "name": "stdout",
     "output_type": "stream",
     "text": [
      "<class 'dict'>\n",
      "\n",
      "{1: 'one', 2: 'Two', 3: 'Three'}\n"
     ]
    }
   ],
   "source": [
    "myDic={1:\"one\", 2:\"Two\", 3:\"Three\"}\n",
    "myDic={1:'one', 2:'Two', 3:'Three'}\n",
    "print(type(myDic))\n",
    "print()\n",
    "print(myDic)"
   ]
  },
  {
   "cell_type": "code",
   "execution_count": 32,
   "id": "4d84e1af-81d0-444a-86ae-f5e9ab05afcb",
   "metadata": {},
   "outputs": [
    {
     "name": "stdout",
     "output_type": "stream",
     "text": [
      "{1: 'one', 2: 'Two', 3: 'Three'}\n"
     ]
    }
   ],
   "source": [
    "# Creating Dictionary with other method\n",
    "myDic=dict([(1,\"one\"), (2,\"Two\"), (3,\"Three\")])\n",
    "print(myDic)\n",
    "myDic=dict([(\"One\",1),(\"Two\",2),(3,\"Three\")])"
   ]
  },
  {
   "cell_type": "code",
   "execution_count": 60,
   "id": "91ee1b9f-436e-4c08-a37a-045f76ba18d8",
   "metadata": {},
   "outputs": [
    {
     "name": "stdout",
     "output_type": "stream",
     "text": [
      "II\n"
     ]
    }
   ],
   "source": [
    "my_dic=dict([(\"one\",\"I\"),(\"two\",\"II\")])\n",
    "print(my_dic[\"two\"])"
   ]
  },
  {
   "cell_type": "code",
   "execution_count": 94,
   "id": "3cab03bc-1bcb-4522-974f-0d3070b4cb71",
   "metadata": {},
   "outputs": [
    {
     "name": "stdout",
     "output_type": "stream",
     "text": [
      "{'I': '1'}\n"
     ]
    }
   ],
   "source": [
    "#update dictionary\n",
    "my_dic={\"I\": \"one\",\"II\":\"Two\"}\n",
    "my_dic[0]={\"I\":\"1}\n",
    "print(my_dic[0])"
   ]
  },
  {
   "cell_type": "code",
   "execution_count": 42,
   "id": "512cd3e5-beb2-477a-8fa4-315aaf70ce87",
   "metadata": {},
   "outputs": [
    {
     "name": "stdout",
     "output_type": "stream",
     "text": [
      "6\n"
     ]
    }
   ],
   "source": [
    "# Functions\n",
    "def addition(num1, num2):\n",
    "    return num1+num2\n",
    "print(addition(2,4))"
   ]
  },
  {
   "cell_type": "code",
   "execution_count": 102,
   "id": "ee2c5a4f-7e65-4054-b464-f62dce87887d",
   "metadata": {},
   "outputs": [
    {
     "name": "stdout",
     "output_type": "stream",
     "text": [
      "['Starc', 'Zahmed']\n"
     ]
    }
   ],
   "source": [
    "#Lab Task 01\n",
    "mytup=((\"Sherry\", 10),(\"ALi\", 12),(\"Ahmed\", 3),(\"John\", 13),(\"Starc\", 21),(\"Bob\", 8),(\"Zahmed\", 32))\n",
    "def names(tup):\n",
    "    mylist=[]\n",
    "    for val in tup:\n",
    "        if val[1]>20:\n",
    "            mylist.append(val[0])\n",
    "    return mylist\n",
    "print(names(mytup))"
   ]
  },
  {
   "cell_type": "code",
   "execution_count": 40,
   "id": "28f23929-5ed3-4a64-bda1-a552449f9a3b",
   "metadata": {},
   "outputs": [
    {
     "name": "stdout",
     "output_type": "stream",
     "text": [
      "('Even', True)\n"
     ]
    }
   ],
   "source": [
    "#Lab Task 02\n",
    "def nums(num):\n",
    "    if num %2==0 and num >5:\n",
    "       return \"Even\", True\n",
    "    elif num %2!=1 and num>5:\n",
    "       return \"Odd\", True\n",
    "   \n",
    "    elif num %2==0 and num<5:\n",
    "       return \"Even\", False\n",
    "  \n",
    "    elif num %2!=1 and num<5:\n",
    "       return \"Odd\", False\n",
    "\n",
    "print(nums(6))"
   ]
  },
  {
   "cell_type": "code",
   "execution_count": 74,
   "id": "568f3cd8-afd4-49e4-b018-e7251f2df272",
   "metadata": {},
   "outputs": [
    {
     "name": "stdout",
     "output_type": "stream",
     "text": [
      "{'The Prince': ('Machiavelli', 1900, 'Politics'), 'The Trial': ('Kafka', 1900, 'Crime'), 'The X-ray': ('Anonymous', 2004, 'Philosophy')}\n",
      "{'The Prince': ('Machiavelli', 1900, 'Politics'), 'The Trial': ('Kafka', 1900, 'Crime'), 'The X-ray': ('Anonymous', 2004, 'Philosophy'), 'Human': ('Alberto', 2004, 'Romantic')}\n",
      "{'The Prince': ('Machiavelli', 1900, 'Politics'), 'The X-ray': ('Anonymous', 2004, 'Philosophy'), 'Human': ('Alberto', 2004, 'Romantic')}\n",
      "{'The Prince': ('Machiavelli', 1900, 'Politics'), 'The X-ray': ('Anonymous', 2004, 'Philosophy'), 'Human': ('Alberto', 2004, 'Romantic'), 'The Animal Farm': ('George Orwell', 1800, 'Philosophy')}\n",
      "Book(s) with given key: 'The X-ray' found\n",
      "('Anonymous', 2004, 'Philosophy')\n"
     ]
    }
   ],
   "source": [
    "#Lab Task 03\n",
    "library={\"The Prince\": (\"Machiavelli\", 1900, \"Politics\") , \"The Trial\": (\"Kafka\",1900,\"Crime\"), \"The X-ray\": (\"Anonymous\", 2004, \"Philosophy\") }\n",
    "\n",
    "def book(title, author, year, genre):\n",
    "    #global library[title]=(author, year, genre)\n",
    "    global library\n",
    "    library[title]=(author, year, genre)\n",
    "    return library\n",
    "\n",
    "def delete(title):\n",
    "    global library\n",
    "    if title in  library:\n",
    "        del library[title]\n",
    "    return library\n",
    "\n",
    "def add(title, author, year, genre):\n",
    "    global library\n",
    "    library[title]=(author, year, genre)\n",
    "    #library={title: (author, year, genre)}\n",
    "    return library \n",
    "\n",
    "def search(title):\n",
    "    global library\n",
    "    found={}\n",
    "    if title in library:\n",
    "        print('Book(s) with given key: ' + \"'\" +title+ \"'\" +' found')\n",
    "        found=library[title]\n",
    "    else:\n",
    "        print('not found')\n",
    "    return found\n",
    " \n",
    "#mydict={}\n",
    "print(library)\n",
    "print(book(\"Human\", \"Alberto\", 2004, \"Romantic\"))\n",
    "\n",
    "print(delete(\"The Trial\"))\n",
    "\n",
    "print(add(\"The Animal Farm\", \"George Orwell\", 1800, \"Philosophy\"))\n",
    "\n",
    "print(search(\"The X-ray\"))"
   ]
  },
  {
   "cell_type": "code",
   "execution_count": null,
   "id": "620edf55-ebc3-474b-8ef5-64f22cb0cbfa",
   "metadata": {},
   "outputs": [],
   "source": []
  }
 ],
 "metadata": {
  "kernelspec": {
   "display_name": "Python 3 (ipykernel)",
   "language": "python",
   "name": "python3"
  },
  "language_info": {
   "codemirror_mode": {
    "name": "ipython",
    "version": 3
   },
   "file_extension": ".py",
   "mimetype": "text/x-python",
   "name": "python",
   "nbconvert_exporter": "python",
   "pygments_lexer": "ipython3",
   "version": "3.12.4"
  }
 },
 "nbformat": 4,
 "nbformat_minor": 5
}
